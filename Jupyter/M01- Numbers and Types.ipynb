{
 "cells": [
  {
   "cell_type": "code",
   "execution_count": 2,
   "id": "4dede6c7",
   "metadata": {},
   "outputs": [
    {
     "name": "stdout",
     "output_type": "stream",
     "text": [
      "3600\n",
      "216000\n",
      "60.0\n",
      "60\n"
     ]
    }
   ],
   "source": [
    "seconds_per_hour = 60 * 60\n",
    "print(seconds_per_hour)\n",
    "\n",
    "seconds_per_day = seconds_per_hour * 60\n",
    "print(seconds_per_day)\n",
    "\n",
    "floating_point = seconds_per_day / seconds_per_hour\n",
    "print(floating_point)\n",
    "\n",
    "int_div = seconds_per_day // seconds_per_hour\n",
    "print(int_div)"
   ]
  },
  {
   "cell_type": "code",
   "execution_count": null,
   "id": "c5c8078d",
   "metadata": {},
   "outputs": [],
   "source": []
  }
 ],
 "metadata": {
  "kernelspec": {
   "display_name": "Python 3 (ipykernel)",
   "language": "python",
   "name": "python3"
  },
  "language_info": {
   "codemirror_mode": {
    "name": "ipython",
    "version": 3
   },
   "file_extension": ".py",
   "mimetype": "text/x-python",
   "name": "python",
   "nbconvert_exporter": "python",
   "pygments_lexer": "ipython3",
   "version": "3.11.4"
  }
 },
 "nbformat": 4,
 "nbformat_minor": 5
}
